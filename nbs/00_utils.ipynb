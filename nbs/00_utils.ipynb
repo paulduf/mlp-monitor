{
 "cells": [
  {
   "cell_type": "markdown",
   "metadata": {},
   "source": [
    "# utils\n",
    "\n",
    "> utilitary functions used in the package"
   ]
  },
  {
   "cell_type": "markdown",
   "metadata": {},
   "source": [
    "This is obtained from [a StackOverflow thread](https://stackoverflow.com/questions/1630320/what-is-the-pythonic-way-to-detect-the-last-element-in-a-for-loop)."
   ]
  },
  {
   "cell_type": "code",
   "execution_count": null,
   "metadata": {},
   "outputs": [],
   "source": [
    "#| default_exp utils"
   ]
  },
  {
   "cell_type": "code",
   "execution_count": null,
   "metadata": {},
   "outputs": [],
   "source": [
    "#| export\n",
    "def lookahead(iterable):\n",
    "    \"\"\"Pass through all values from the given iterable, augmented by the\n",
    "    information if there are more values to come after the current one\n",
    "    (True), or if it is the last value (False).\n",
    "    \"\"\"\n",
    "    # Get an iterator and pull the first value.\n",
    "    it = iter(iterable)\n",
    "    last = next(it)\n",
    "    # Run the iterator to exhaustion (starting from the second value).\n",
    "    for val in it:\n",
    "        # Report the *previous* value (more to come).\n",
    "        yield last, True\n",
    "        last = val\n",
    "    # Report the last value.\n",
    "    yield last, False\n"
   ]
  },
  {
   "cell_type": "code",
   "execution_count": null,
   "metadata": {},
   "outputs": [
    {
     "name": "stdout",
     "output_type": "stream",
     "text": [
      "0 True\n",
      "1 True\n",
      "2 False\n"
     ]
    }
   ],
   "source": [
    "for i, has_more in lookahead(range(3)):\n",
    "    print(i, has_more)"
   ]
  },
  {
   "cell_type": "code",
   "execution_count": null,
   "metadata": {},
   "outputs": [],
   "source": []
  }
 ],
 "metadata": {
  "kernelspec": {
   "display_name": "python3",
   "language": "python",
   "name": "python3"
  }
 },
 "nbformat": 4,
 "nbformat_minor": 2
}
